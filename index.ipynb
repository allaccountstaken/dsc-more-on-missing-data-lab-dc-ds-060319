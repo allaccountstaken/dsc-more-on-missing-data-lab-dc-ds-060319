{
 "cells": [
  {
   "cell_type": "markdown",
   "metadata": {},
   "source": [
    "# More On Missing Data - Lab\n",
    "\n",
    "## Introduction\n",
    "\n",
    "In this lab, you'll continue to practice techniques for dealing with missing data. Moreover, you'll observe the impact on distributions of your data produced by various techniques for dealing with missing data.\n",
    "\n",
    "## Objectives\n",
    "\n",
    "You will be able to:\n",
    "\n",
    "* Use various techniques for dealing with missing data\n",
    "* Observe the impact of imputing missing values on summary statistics"
   ]
  },
  {
   "cell_type": "markdown",
   "metadata": {},
   "source": [
    "## Load the Data\n",
    "\n",
    "To start, load in the dataset `titanic.csv` using pandas."
   ]
  },
  {
   "cell_type": "code",
   "execution_count": 1,
   "metadata": {},
   "outputs": [],
   "source": [
    "#Your code here\n",
    "import pandas as pd"
   ]
  },
  {
   "cell_type": "code",
   "execution_count": 2,
   "metadata": {},
   "outputs": [],
   "source": [
    "df = pd.read_csv('titanic.csv')"
   ]
  },
  {
   "cell_type": "markdown",
   "metadata": {},
   "source": [
    "## Use the `.info()` Method to Quickly Preview Which Features Have Missing Data"
   ]
  },
  {
   "cell_type": "code",
   "execution_count": 3,
   "metadata": {},
   "outputs": [
    {
     "name": "stdout",
     "output_type": "stream",
     "text": [
      "<class 'pandas.core.frame.DataFrame'>\n",
      "RangeIndex: 891 entries, 0 to 890\n",
      "Data columns (total 13 columns):\n",
      "Unnamed: 0     891 non-null int64\n",
      "PassengerId    891 non-null int64\n",
      "Survived       891 non-null int64\n",
      "Pclass         891 non-null object\n",
      "Name           891 non-null object\n",
      "Sex            891 non-null object\n",
      "Age            714 non-null float64\n",
      "SibSp          891 non-null int64\n",
      "Parch          891 non-null int64\n",
      "Ticket         891 non-null object\n",
      "Fare           891 non-null float64\n",
      "Cabin          204 non-null object\n",
      "Embarked       889 non-null object\n",
      "dtypes: float64(2), int64(5), object(6)\n",
      "memory usage: 90.6+ KB\n"
     ]
    }
   ],
   "source": [
    "#Your code here\n",
    "df.info()"
   ]
  },
  {
   "cell_type": "markdown",
   "metadata": {},
   "source": [
    "## Observe Previous Measures Of Centrality\n",
    "\n",
    "Let's look at the age feature. Calculate the mean, median and standard deviation of this feature. Then plot a histogram of the distribution."
   ]
  },
  {
   "cell_type": "code",
   "execution_count": 4,
   "metadata": {},
   "outputs": [
    {
     "ename": "KeyError",
     "evalue": "'[22.   38.   26.   35.   35.     nan 54.    2.   27.   14.    4.   58.\\n 20.   39.   14.   55.    2.     nan 31.     nan 35.   34.   15.   28.\\n  8.   38.     nan 19.     nan   nan 40.     nan   nan 66.   28.   42.\\n   nan 21.   18.   14.   40.   27.     nan  3.   19.     nan   nan   nan\\n   nan 18.    7.   21.   49.   29.   65.     nan 21.   28.5   5.   11.\\n 22.   38.   45.    4.     nan   nan 29.   19.   17.   26.   32.   16.\\n 21.   26.   32.   25.     nan   nan  0.83 30.   22.   29.     nan 28.\\n 17.   33.   16.     nan 23.   24.   29.   20.   46.   26.   59.     nan\\n 71.   23.   34.   34.   28.     nan 21.   33.   37.   28.   21.     nan\\n 38.     nan 47.   14.5  22.   20.   17.   21.   70.5  29.   24.    2.\\n 21.     nan 32.5  32.5  54.   12.     nan 24.     nan 45.   33.   20.\\n 47.   29.   25.   23.   19.   37.   16.   24.     nan 22.   24.   19.\\n 18.   19.   27.    9.   36.5  42.   51.   22.   55.5  40.5    nan 51.\\n 16.   30.     nan   nan 44.   40.   26.   17.    1.    9.     nan 45.\\n   nan 28.   61.    4.    1.   21.   56.   18.     nan 50.   30.   36.\\n   nan   nan  9.    1.    4.     nan   nan 45.   40.   36.   32.   19.\\n 19.    3.   44.   58.     nan 42.     nan 24.   28.     nan 34.   45.5\\n 18.    2.   32.   26.   16.   40.   24.   35.   22.   30.     nan 31.\\n 27.   42.   32.   30.   16.   27.   51.     nan 38.   22.   19.   20.5\\n 18.     nan 35.   29.   59.    5.   24.     nan 44.    8.   19.   33.\\n   nan   nan 29.   22.   30.   44.   25.   24.   37.   54.     nan 29.\\n 62.   30.   41.   29.     nan 30.   35.   50.     nan  3.   52.   40.\\n   nan 36.   16.   25.   58.   35.     nan 25.   41.   37.     nan 63.\\n 45.     nan  7.   35.   65.   28.   16.   19.     nan 33.   30.   22.\\n 42.   22.   26.   19.   36.   24.   24.     nan 23.5   2.     nan 50.\\n   nan   nan 19.     nan   nan  0.92   nan 17.   30.   30.   24.   18.\\n 26.   28.   43.   26.   24.   54.   31.   40.   22.   27.   30.   22.\\n   nan 36.   61.   36.   31.   16.     nan 45.5  38.   16.     nan   nan\\n 29.   41.   45.   45.    2.   24.   28.   25.   36.   24.   40.     nan\\n  3.   42.   23.     nan 15.   25.     nan 28.   22.   38.     nan   nan\\n 40.   29.   45.   35.     nan 30.   60.     nan   nan 24.   25.   18.\\n 19.   22.    3.     nan 22.   27.   20.   19.   42.    1.   32.   35.\\n   nan 18.    1.   36.     nan 17.   36.   21.   28.   23.   24.   22.\\n 31.   46.   23.   28.   39.   26.   21.   28.   20.   34.   51.    3.\\n 21.     nan   nan   nan 33.     nan 44.     nan 34.   18.   30.   10.\\n   nan 21.   29.   28.   18.     nan 28.   19.     nan 32.   28.     nan\\n 42.   17.   50.   14.   21.   24.   64.   31.   45.   20.   25.   28.\\n   nan  4.   13.   34.    5.   52.   36.     nan 30.   49.     nan 29.\\n 65.     nan 50.     nan 48.   34.   47.   48.     nan 38.     nan 56.\\n   nan  0.75   nan 38.   33.   23.   22.     nan 34.   29.   22.    2.\\n  9.     nan 50.   63.   25.     nan 35.   58.   30.    9.     nan 21.\\n 55.   71.   21.     nan 54.     nan 25.   24.   17.   21.     nan 37.\\n 16.   18.   33.     nan 28.   26.   29.     nan 36.   54.   24.   47.\\n 34.     nan 36.   32.   30.   22.     nan 44.     nan 40.5  50.     nan\\n 39.   23.    2.     nan 17.     nan 30.    7.   45.   30.     nan 22.\\n 36.    9.   11.   32.   50.   64.   19.     nan 33.    8.   17.   27.\\n   nan 22.   22.   62.   48.     nan 39.   36.     nan 40.   28.     nan\\n   nan 24.   19.   29.     nan 32.   62.   53.   36.     nan 16.   19.\\n 34.   39.     nan 32.   25.   39.   54.   36.     nan 18.   47.   60.\\n 22.     nan 35.   52.   47.     nan 37.   36.     nan 49.     nan 49.\\n 24.     nan   nan 44.   35.   36.   30.   27.   22.   40.   39.     nan\\n   nan   nan 35.   24.   34.   26.    4.   26.   27.   42.   20.   21.\\n 21.   61.   57.   21.   26.     nan 80.   51.   32.     nan  9.   28.\\n 32.   31.   41.     nan 20.   24.    2.     nan  0.75 48.   19.   56.\\n   nan 23.     nan 18.   21.     nan 18.   24.     nan 32.   23.   58.\\n 50.   40.   47.   36.   20.   32.   25.     nan 43.     nan 40.   31.\\n 70.   31.     nan 18.   24.5  18.   43.   36.     nan 27.   20.   14.\\n 60.   25.   14.   19.   18.   15.   31.    4.     nan 25.   60.   52.\\n 44.     nan 49.   42.   18.   35.   18.   25.   26.   39.   45.   42.\\n 22.     nan 24.     nan 48.   29.   52.   19.   38.   27.     nan 33.\\n  6.   17.   34.   50.   27.   20.   30.     nan 25.   25.   29.   11.\\n   nan 23.   23.   28.5  48.   35.     nan   nan   nan 36.   21.   24.\\n 31.   70.   16.   30.   19.   31.    4.    6.   33.   23.   48.    0.67\\n 28.   18.   34.   33.     nan 41.   20.   36.   16.   51.     nan 30.5\\n   nan 32.   24.   48.   57.     nan 54.   18.     nan  5.     nan 43.\\n 13.   17.   29.     nan 25.   25.   18.    8.    1.   46.     nan 16.\\n   nan   nan 25.   39.   49.   31.   30.   30.   34.   31.   11.    0.42\\n 27.   31.   39.   18.   39.   33.   26.   39.   35.    6.   30.5    nan\\n 23.   31.   43.   10.   52.   27.   38.   27.    2.     nan   nan  1.\\n   nan 62.   15.    0.83   nan 23.   18.   39.   21.     nan 32.     nan\\n 20.   16.   30.   34.5  17.   42.     nan 35.   28.     nan  4.   74.\\n  9.   16.   44.   18.   45.   51.   24.     nan 41.   21.   48.     nan\\n 24.   42.   27.   31.     nan  4.   26.   47.   33.   47.   28.   15.\\n 20.   19.     nan 56.   25.   33.   22.   28.   25.   39.   27.   19.\\n   nan 26.   32.  ] not in index'",
     "output_type": "error",
     "traceback": [
      "\u001b[0;31m\u001b[0m",
      "\u001b[0;31mKeyError\u001b[0mTraceback (most recent call last)",
      "\u001b[0;32m<ipython-input-4-350ede07b18d>\u001b[0m in \u001b[0;36m<module>\u001b[0;34m()\u001b[0m\n\u001b[1;32m      1\u001b[0m \u001b[0;31m#Your code here\u001b[0m\u001b[0;34m\u001b[0m\u001b[0;34m\u001b[0m\u001b[0m\n\u001b[0;32m----> 2\u001b[0;31m \u001b[0mdf\u001b[0m\u001b[0;34m[\u001b[0m\u001b[0mdf\u001b[0m\u001b[0;34m[\u001b[0m\u001b[0;34m'Age'\u001b[0m\u001b[0;34m]\u001b[0m\u001b[0;34m]\u001b[0m\u001b[0;34m.\u001b[0m\u001b[0mdescribe\u001b[0m\u001b[0;34m(\u001b[0m\u001b[0;34m)\u001b[0m\u001b[0;34m\u001b[0m\u001b[0m\n\u001b[0m",
      "\u001b[0;32m/opt/conda/envs/learn-env/lib/python3.6/site-packages/pandas/core/frame.py\u001b[0m in \u001b[0;36m__getitem__\u001b[0;34m(self, key)\u001b[0m\n\u001b[1;32m   2680\u001b[0m         \u001b[0;32mif\u001b[0m \u001b[0misinstance\u001b[0m\u001b[0;34m(\u001b[0m\u001b[0mkey\u001b[0m\u001b[0;34m,\u001b[0m \u001b[0;34m(\u001b[0m\u001b[0mSeries\u001b[0m\u001b[0;34m,\u001b[0m \u001b[0mnp\u001b[0m\u001b[0;34m.\u001b[0m\u001b[0mndarray\u001b[0m\u001b[0;34m,\u001b[0m \u001b[0mIndex\u001b[0m\u001b[0;34m,\u001b[0m \u001b[0mlist\u001b[0m\u001b[0;34m)\u001b[0m\u001b[0;34m)\u001b[0m\u001b[0;34m:\u001b[0m\u001b[0;34m\u001b[0m\u001b[0m\n\u001b[1;32m   2681\u001b[0m             \u001b[0;31m# either boolean or fancy integer index\u001b[0m\u001b[0;34m\u001b[0m\u001b[0;34m\u001b[0m\u001b[0m\n\u001b[0;32m-> 2682\u001b[0;31m             \u001b[0;32mreturn\u001b[0m \u001b[0mself\u001b[0m\u001b[0;34m.\u001b[0m\u001b[0m_getitem_array\u001b[0m\u001b[0;34m(\u001b[0m\u001b[0mkey\u001b[0m\u001b[0;34m)\u001b[0m\u001b[0;34m\u001b[0m\u001b[0m\n\u001b[0m\u001b[1;32m   2683\u001b[0m         \u001b[0;32melif\u001b[0m \u001b[0misinstance\u001b[0m\u001b[0;34m(\u001b[0m\u001b[0mkey\u001b[0m\u001b[0;34m,\u001b[0m \u001b[0mDataFrame\u001b[0m\u001b[0;34m)\u001b[0m\u001b[0;34m:\u001b[0m\u001b[0;34m\u001b[0m\u001b[0m\n\u001b[1;32m   2684\u001b[0m             \u001b[0;32mreturn\u001b[0m \u001b[0mself\u001b[0m\u001b[0;34m.\u001b[0m\u001b[0m_getitem_frame\u001b[0m\u001b[0;34m(\u001b[0m\u001b[0mkey\u001b[0m\u001b[0;34m)\u001b[0m\u001b[0;34m\u001b[0m\u001b[0m\n",
      "\u001b[0;32m/opt/conda/envs/learn-env/lib/python3.6/site-packages/pandas/core/frame.py\u001b[0m in \u001b[0;36m_getitem_array\u001b[0;34m(self, key)\u001b[0m\n\u001b[1;32m   2724\u001b[0m             \u001b[0;32mreturn\u001b[0m \u001b[0mself\u001b[0m\u001b[0;34m.\u001b[0m\u001b[0m_take\u001b[0m\u001b[0;34m(\u001b[0m\u001b[0mindexer\u001b[0m\u001b[0;34m,\u001b[0m \u001b[0maxis\u001b[0m\u001b[0;34m=\u001b[0m\u001b[0;36m0\u001b[0m\u001b[0;34m)\u001b[0m\u001b[0;34m\u001b[0m\u001b[0m\n\u001b[1;32m   2725\u001b[0m         \u001b[0;32melse\u001b[0m\u001b[0;34m:\u001b[0m\u001b[0;34m\u001b[0m\u001b[0m\n\u001b[0;32m-> 2726\u001b[0;31m             \u001b[0mindexer\u001b[0m \u001b[0;34m=\u001b[0m \u001b[0mself\u001b[0m\u001b[0;34m.\u001b[0m\u001b[0mloc\u001b[0m\u001b[0;34m.\u001b[0m\u001b[0m_convert_to_indexer\u001b[0m\u001b[0;34m(\u001b[0m\u001b[0mkey\u001b[0m\u001b[0;34m,\u001b[0m \u001b[0maxis\u001b[0m\u001b[0;34m=\u001b[0m\u001b[0;36m1\u001b[0m\u001b[0;34m)\u001b[0m\u001b[0;34m\u001b[0m\u001b[0m\n\u001b[0m\u001b[1;32m   2727\u001b[0m             \u001b[0;32mreturn\u001b[0m \u001b[0mself\u001b[0m\u001b[0;34m.\u001b[0m\u001b[0m_take\u001b[0m\u001b[0;34m(\u001b[0m\u001b[0mindexer\u001b[0m\u001b[0;34m,\u001b[0m \u001b[0maxis\u001b[0m\u001b[0;34m=\u001b[0m\u001b[0;36m1\u001b[0m\u001b[0;34m)\u001b[0m\u001b[0;34m\u001b[0m\u001b[0m\n\u001b[1;32m   2728\u001b[0m \u001b[0;34m\u001b[0m\u001b[0m\n",
      "\u001b[0;32m/opt/conda/envs/learn-env/lib/python3.6/site-packages/pandas/core/indexing.py\u001b[0m in \u001b[0;36m_convert_to_indexer\u001b[0;34m(self, obj, axis, is_setter)\u001b[0m\n\u001b[1;32m   1325\u001b[0m                 \u001b[0;32mif\u001b[0m \u001b[0mmask\u001b[0m\u001b[0;34m.\u001b[0m\u001b[0many\u001b[0m\u001b[0;34m(\u001b[0m\u001b[0;34m)\u001b[0m\u001b[0;34m:\u001b[0m\u001b[0;34m\u001b[0m\u001b[0m\n\u001b[1;32m   1326\u001b[0m                     raise KeyError('{mask} not in index'\n\u001b[0;32m-> 1327\u001b[0;31m                                    .format(mask=objarr[mask]))\n\u001b[0m\u001b[1;32m   1328\u001b[0m \u001b[0;34m\u001b[0m\u001b[0m\n\u001b[1;32m   1329\u001b[0m                 \u001b[0;32mreturn\u001b[0m \u001b[0mcom\u001b[0m\u001b[0;34m.\u001b[0m\u001b[0m_values_from_object\u001b[0m\u001b[0;34m(\u001b[0m\u001b[0mindexer\u001b[0m\u001b[0;34m)\u001b[0m\u001b[0;34m\u001b[0m\u001b[0m\n",
      "\u001b[0;31mKeyError\u001b[0m: '[22.   38.   26.   35.   35.     nan 54.    2.   27.   14.    4.   58.\\n 20.   39.   14.   55.    2.     nan 31.     nan 35.   34.   15.   28.\\n  8.   38.     nan 19.     nan   nan 40.     nan   nan 66.   28.   42.\\n   nan 21.   18.   14.   40.   27.     nan  3.   19.     nan   nan   nan\\n   nan 18.    7.   21.   49.   29.   65.     nan 21.   28.5   5.   11.\\n 22.   38.   45.    4.     nan   nan 29.   19.   17.   26.   32.   16.\\n 21.   26.   32.   25.     nan   nan  0.83 30.   22.   29.     nan 28.\\n 17.   33.   16.     nan 23.   24.   29.   20.   46.   26.   59.     nan\\n 71.   23.   34.   34.   28.     nan 21.   33.   37.   28.   21.     nan\\n 38.     nan 47.   14.5  22.   20.   17.   21.   70.5  29.   24.    2.\\n 21.     nan 32.5  32.5  54.   12.     nan 24.     nan 45.   33.   20.\\n 47.   29.   25.   23.   19.   37.   16.   24.     nan 22.   24.   19.\\n 18.   19.   27.    9.   36.5  42.   51.   22.   55.5  40.5    nan 51.\\n 16.   30.     nan   nan 44.   40.   26.   17.    1.    9.     nan 45.\\n   nan 28.   61.    4.    1.   21.   56.   18.     nan 50.   30.   36.\\n   nan   nan  9.    1.    4.     nan   nan 45.   40.   36.   32.   19.\\n 19.    3.   44.   58.     nan 42.     nan 24.   28.     nan 34.   45.5\\n 18.    2.   32.   26.   16.   40.   24.   35.   22.   30.     nan 31.\\n 27.   42.   32.   30.   16.   27.   51.     nan 38.   22.   19.   20.5\\n 18.     nan 35.   29.   59.    5.   24.     nan 44.    8.   19.   33.\\n   nan   nan 29.   22.   30.   44.   25.   24.   37.   54.     nan 29.\\n 62.   30.   41.   29.     nan 30.   35.   50.     nan  3.   52.   40.\\n   nan 36.   16.   25.   58.   35.     nan 25.   41.   37.     nan 63.\\n 45.     nan  7.   35.   65.   28.   16.   19.     nan 33.   30.   22.\\n 42.   22.   26.   19.   36.   24.   24.     nan 23.5   2.     nan 50.\\n   nan   nan 19.     nan   nan  0.92   nan 17.   30.   30.   24.   18.\\n 26.   28.   43.   26.   24.   54.   31.   40.   22.   27.   30.   22.\\n   nan 36.   61.   36.   31.   16.     nan 45.5  38.   16.     nan   nan\\n 29.   41.   45.   45.    2.   24.   28.   25.   36.   24.   40.     nan\\n  3.   42.   23.     nan 15.   25.     nan 28.   22.   38.     nan   nan\\n 40.   29.   45.   35.     nan 30.   60.     nan   nan 24.   25.   18.\\n 19.   22.    3.     nan 22.   27.   20.   19.   42.    1.   32.   35.\\n   nan 18.    1.   36.     nan 17.   36.   21.   28.   23.   24.   22.\\n 31.   46.   23.   28.   39.   26.   21.   28.   20.   34.   51.    3.\\n 21.     nan   nan   nan 33.     nan 44.     nan 34.   18.   30.   10.\\n   nan 21.   29.   28.   18.     nan 28.   19.     nan 32.   28.     nan\\n 42.   17.   50.   14.   21.   24.   64.   31.   45.   20.   25.   28.\\n   nan  4.   13.   34.    5.   52.   36.     nan 30.   49.     nan 29.\\n 65.     nan 50.     nan 48.   34.   47.   48.     nan 38.     nan 56.\\n   nan  0.75   nan 38.   33.   23.   22.     nan 34.   29.   22.    2.\\n  9.     nan 50.   63.   25.     nan 35.   58.   30.    9.     nan 21.\\n 55.   71.   21.     nan 54.     nan 25.   24.   17.   21.     nan 37.\\n 16.   18.   33.     nan 28.   26.   29.     nan 36.   54.   24.   47.\\n 34.     nan 36.   32.   30.   22.     nan 44.     nan 40.5  50.     nan\\n 39.   23.    2.     nan 17.     nan 30.    7.   45.   30.     nan 22.\\n 36.    9.   11.   32.   50.   64.   19.     nan 33.    8.   17.   27.\\n   nan 22.   22.   62.   48.     nan 39.   36.     nan 40.   28.     nan\\n   nan 24.   19.   29.     nan 32.   62.   53.   36.     nan 16.   19.\\n 34.   39.     nan 32.   25.   39.   54.   36.     nan 18.   47.   60.\\n 22.     nan 35.   52.   47.     nan 37.   36.     nan 49.     nan 49.\\n 24.     nan   nan 44.   35.   36.   30.   27.   22.   40.   39.     nan\\n   nan   nan 35.   24.   34.   26.    4.   26.   27.   42.   20.   21.\\n 21.   61.   57.   21.   26.     nan 80.   51.   32.     nan  9.   28.\\n 32.   31.   41.     nan 20.   24.    2.     nan  0.75 48.   19.   56.\\n   nan 23.     nan 18.   21.     nan 18.   24.     nan 32.   23.   58.\\n 50.   40.   47.   36.   20.   32.   25.     nan 43.     nan 40.   31.\\n 70.   31.     nan 18.   24.5  18.   43.   36.     nan 27.   20.   14.\\n 60.   25.   14.   19.   18.   15.   31.    4.     nan 25.   60.   52.\\n 44.     nan 49.   42.   18.   35.   18.   25.   26.   39.   45.   42.\\n 22.     nan 24.     nan 48.   29.   52.   19.   38.   27.     nan 33.\\n  6.   17.   34.   50.   27.   20.   30.     nan 25.   25.   29.   11.\\n   nan 23.   23.   28.5  48.   35.     nan   nan   nan 36.   21.   24.\\n 31.   70.   16.   30.   19.   31.    4.    6.   33.   23.   48.    0.67\\n 28.   18.   34.   33.     nan 41.   20.   36.   16.   51.     nan 30.5\\n   nan 32.   24.   48.   57.     nan 54.   18.     nan  5.     nan 43.\\n 13.   17.   29.     nan 25.   25.   18.    8.    1.   46.     nan 16.\\n   nan   nan 25.   39.   49.   31.   30.   30.   34.   31.   11.    0.42\\n 27.   31.   39.   18.   39.   33.   26.   39.   35.    6.   30.5    nan\\n 23.   31.   43.   10.   52.   27.   38.   27.    2.     nan   nan  1.\\n   nan 62.   15.    0.83   nan 23.   18.   39.   21.     nan 32.     nan\\n 20.   16.   30.   34.5  17.   42.     nan 35.   28.     nan  4.   74.\\n  9.   16.   44.   18.   45.   51.   24.     nan 41.   21.   48.     nan\\n 24.   42.   27.   31.     nan  4.   26.   47.   33.   47.   28.   15.\\n 20.   19.     nan 56.   25.   33.   22.   28.   25.   39.   27.   19.\\n   nan 26.   32.  ] not in index'"
     ]
    }
   ],
   "source": [
    "#Your code heredf['Age']"
   ]
  },
  {
   "cell_type": "markdown",
   "metadata": {},
   "source": [
    "## Impute Missing Values using the Mean \n",
    "\n",
    "Fill the missing age values using the average age. (Don't overwrite the original data, as we will be comparing to other methods for dealing with the missing values.) Then recalculate the mean, median, and std and replot the histogram."
   ]
  },
  {
   "cell_type": "code",
   "execution_count": null,
   "metadata": {},
   "outputs": [],
   "source": [
    "#Your code here"
   ]
  },
  {
   "cell_type": "markdown",
   "metadata": {},
   "source": [
    "### Commentary\n",
    "\n",
    "Note that the standard deviation dropped, the median was slightly raised and the distribution has a larger mass near the center."
   ]
  },
  {
   "cell_type": "markdown",
   "metadata": {},
   "source": [
    "## Impute Missing Values using the Median \n",
    "\n",
    "Fill the missing age values, this time using the media age. (Again, don't overwrite the original data, as we will be comparing to other methods for dealing with the missing values.) Then recalculate the mean, median, and std and replot the histogram."
   ]
  },
  {
   "cell_type": "code",
   "execution_count": null,
   "metadata": {},
   "outputs": [],
   "source": [
    "#Your code here"
   ]
  },
  {
   "cell_type": "markdown",
   "metadata": {},
   "source": [
    "### Commentary\n",
    "\n",
    "Imputing the median has similar effectiveness to imputing the mean. The variance is reduced, while the mean is slightly lowered. You can once again see that there is a larger mass of data near the center of the distribution."
   ]
  },
  {
   "cell_type": "markdown",
   "metadata": {},
   "source": [
    "## Dropping Rows\n",
    "\n",
    "Finally, lets observe the impact on the distribution if we were to simply drop all of the rows that are missing an age value. Afterwards, calculate the mean, median and standard deviation of the ages along with a histogram, as before."
   ]
  },
  {
   "cell_type": "code",
   "execution_count": null,
   "metadata": {},
   "outputs": [],
   "source": [
    "#Your code here"
   ]
  },
  {
   "cell_type": "markdown",
   "metadata": {},
   "source": [
    "### Commentary\n",
    "\n",
    "Dropping null values leaves the distribution and associated measures of centrality unchanged, but at the cost of throwing away data."
   ]
  },
  {
   "cell_type": "markdown",
   "metadata": {},
   "source": [
    "## Summary\n",
    "\n",
    "In this lab, you briefly practiced some common techniques for dealing with missing data. Moreover, you observed the impact that these methods had on the distribution of the feature itself. When you begin to tune models on your data, these considerations will be an essential process of developing robust and accurate models."
   ]
  }
 ],
 "metadata": {
  "kernelspec": {
   "display_name": "Python 3",
   "language": "python",
   "name": "python3"
  },
  "language_info": {
   "codemirror_mode": {
    "name": "ipython",
    "version": 3
   },
   "file_extension": ".py",
   "mimetype": "text/x-python",
   "name": "python",
   "nbconvert_exporter": "python",
   "pygments_lexer": "ipython3",
   "version": "3.6.6"
  }
 },
 "nbformat": 4,
 "nbformat_minor": 2
}
